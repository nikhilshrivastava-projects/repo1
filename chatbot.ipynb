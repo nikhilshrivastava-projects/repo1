{
 "cells": [
  {
   "cell_type": "code",
   "execution_count": 1,
   "id": "9e4ea2aa-8585-435e-8d3b-c02655d3b5d9",
   "metadata": {},
   "outputs": [],
   "source": [
    "from tkinter import *"
   ]
  },
  {
   "cell_type": "code",
   "execution_count": 2,
   "id": "5218abb0-4666-4579-b06b-66185aec0d60",
   "metadata": {},
   "outputs": [
    {
     "data": {
      "text/plain": [
       "''"
      ]
     },
     "execution_count": 2,
     "metadata": {},
     "output_type": "execute_result"
    }
   ],
   "source": [
    "root = Tk()\n",
    "root.title(\"Chatbot\")"
   ]
  },
  {
   "cell_type": "code",
   "execution_count": 3,
   "id": "f4020c78-6e69-46a5-8373-4435bff859dd",
   "metadata": {
    "tags": []
   },
   "outputs": [
    {
     "ename": "SyntaxError",
     "evalue": "invalid syntax (2493469201.py, line 11)",
     "output_type": "error",
     "traceback": [
      "\u001b[0;36m  File \u001b[0;32m\"/var/folders/l6/nr4t_lsj1nj0wshdv4n5vkkh0000gn/T/ipykernel_7375/2493469201.py\"\u001b[0;36m, line \u001b[0;32m11\u001b[0m\n\u001b[0;31m    elif(user==\"fine\" or user == \"i am good\" or user == \"i am doing good\", or user == \"i am also good\"):\u001b[0m\n\u001b[0m                                                                           ^\u001b[0m\n\u001b[0;31mSyntaxError\u001b[0m\u001b[0;31m:\u001b[0m invalid syntax\n"
     ]
    }
   ],
   "source": [
    "def send():\n",
    "    send = \"You -> \" + e.get()\n",
    "    txt.insert(END, \"\\n\"+send)\n",
    "    user = e.get().lower()\n",
    "    if(user == \"hello\"):\n",
    "        txt.insert(END,\"\\n\" + \"Bot -> Hi\")\n",
    "    elif(user == \"hi\" or user == \"hii\" or user == \"hiiii\"):\n",
    "        txt.insert(END,\"\\n\" +\"Bot-> Hello\")\n",
    "    elif(e.get() == \"how are you\"):\n",
    "        txt.insert(END, \"\\n\" + \"Bot ->fine! and you\")\n",
    "    elif(user==\"fine\" or user == \"i am good\" or user == \"i am doing good\", or user == \"i am also good\"):\n",
    "        txt.insert(END,\"\\n\"+\"Bot -> Great!  how can I help you.\")\n",
    "    else:\n",
    "        txt.insert(END,\"\\n\"+\"Bot -> Sorry! I didn't get you\")\n",
    "    e.delete(0,END)"
   ]
  },
  {
   "cell_type": "code",
   "execution_count": null,
   "id": "595fed23-f631-4e0a-871e-37c8beed5d8e",
   "metadata": {},
   "outputs": [],
   "source": [
    "txt = Text(root)\n",
    "txt.grid(row=0,column=0,columnspan=2)\n",
    "e=Entry(root,width=100)\n",
    "e.grid(row=1,column=0)\n",
    "send=Button(root,text=\"Send\",command=send).grid(row=1,column=1)\n",
    "root.mainloop()"
   ]
  },
  {
   "cell_type": "code",
   "execution_count": null,
   "id": "71806156-0051-45a2-8366-7201d5deb751",
   "metadata": {},
   "outputs": [],
   "source": []
  },
  {
   "cell_type": "code",
   "execution_count": null,
   "id": "38bcfd33-6c75-4f1c-9adf-2feba5c59f95",
   "metadata": {},
   "outputs": [],
   "source": []
  },
  {
   "cell_type": "code",
   "execution_count": null,
   "id": "8e26f17f-b8e2-49d2-bcbb-cea277cc5152",
   "metadata": {},
   "outputs": [],
   "source": []
  },
  {
   "cell_type": "code",
   "execution_count": null,
   "id": "94f74683-b6ea-43d5-9ead-e19e247938f7",
   "metadata": {},
   "outputs": [],
   "source": []
  },
  {
   "cell_type": "code",
   "execution_count": null,
   "id": "3a2b1e5c-2519-4051-8a3a-7e88b40867f2",
   "metadata": {},
   "outputs": [],
   "source": []
  },
  {
   "cell_type": "code",
   "execution_count": null,
   "id": "b2131458-cc5a-4aed-8929-6fd138686111",
   "metadata": {},
   "outputs": [],
   "source": []
  }
 ],
 "metadata": {
  "kernelspec": {
   "display_name": "Python 3 (ipykernel)",
   "language": "python",
   "name": "python3"
  },
  "language_info": {
   "codemirror_mode": {
    "name": "ipython",
    "version": 3
   },
   "file_extension": ".py",
   "mimetype": "text/x-python",
   "name": "python",
   "nbconvert_exporter": "python",
   "pygments_lexer": "ipython3",
   "version": "3.8.8"
  }
 },
 "nbformat": 4,
 "nbformat_minor": 5
}
